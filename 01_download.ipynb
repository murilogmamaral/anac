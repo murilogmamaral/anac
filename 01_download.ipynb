{
 "cells": [
  {
   "cell_type": "markdown",
   "id": "a19087c2",
   "metadata": {},
   "source": [
    "Murilo Amaral  \n",
    "Email: murilogmamaral@gmail.com  \n",
    "Linkedin: https://www.linkedin.com/in/murilogmamaral/  \n",
    "\n",
    "___\n",
    "# Forecasting passenger flow at Brazilian airports\n",
    "## 1 - Download\n",
    "This notebook aims to download files.\n",
    "___"
   ]
  },
  {
   "cell_type": "markdown",
   "id": "b5af65ac",
   "metadata": {},
   "source": [
    "### Libraries and Configuration"
   ]
  },
  {
   "cell_type": "code",
   "execution_count": 1,
   "id": "f10dc09c",
   "metadata": {
    "ExecuteTime": {
     "end_time": "2022-06-09T02:13:55.458147Z",
     "start_time": "2022-06-09T02:13:52.608387Z"
    }
   },
   "outputs": [],
   "source": [
    "import requests\n",
    "import glob\n",
    "import time\n",
    "import pandas as pd\n",
    "class color: RED = '\\033[91m'; GREEN = '\\033[92m'; GRAY = '\\033[90m'; END = '\\033[0m'"
   ]
  },
  {
   "cell_type": "markdown",
   "id": "71009ac5",
   "metadata": {},
   "source": [
    "### Downloading files"
   ]
  },
  {
   "cell_type": "code",
   "execution_count": 2,
   "id": "6fbd91ee",
   "metadata": {
    "ExecuteTime": {
     "end_time": "2022-06-09T02:13:55.467175Z",
     "start_time": "2022-06-09T02:13:55.462875Z"
    },
    "scrolled": true
   },
   "outputs": [],
   "source": [
    "# Data source: ANAC - National Civil Aviation Agency (Brazil)\n",
    "source = 'https://www.gov.br/anac/pt-br/assuntos/regulados/empresas-aereas/Instrucoes-para-a-elaboracao-e-apresentacao-das-demonstracoes-contabeis/microdados/'\n",
    "\n",
    "# Download\n",
    "download_path = '/Volumes/datalake/download/anac/'"
   ]
  },
  {
   "cell_type": "code",
   "execution_count": 3,
   "id": "104da4b0",
   "metadata": {
    "ExecuteTime": {
     "end_time": "2022-06-09T02:13:55.485510Z",
     "start_time": "2022-06-09T02:13:55.474038Z"
    }
   },
   "outputs": [],
   "source": [
    "# Download function (by year)\n",
    "def download(year):\n",
    "    \n",
    "    print(f\"\\n>>>> Downloading files ({year})\")\n",
    "    files = [x.split('/')[-1] for x in glob.glob(download_path+'*')]\n",
    "    \n",
    "    for month in [str(x).zfill(2) for x in range(1,13)]:\n",
    "        file = f'basica{year}-{month}.zip'\n",
    "        if file not in files:\n",
    "            success = False\n",
    "            t = 1\n",
    "            while not success and t < 3:\n",
    "                r = requests.get(source+file)\n",
    "                if r.headers['X-Cache-Rule'] != 'not_found':\n",
    "                    open(download_path + file, 'wb').write(r.content)\n",
    "                    success = True\n",
    "                else:\n",
    "                    success = False\n",
    "                    t = t + 1\n",
    "                    time.sleep(5)\n",
    "            if success:\n",
    "                print(f'{color.GREEN}[OK] The file \\'basica{year}-{month}.zip\\' was downloaded.{color.END}')\n",
    "            else:\n",
    "                print(f'{color.RED}---- The file \\'basica{year}-{month}.zip\\' is not available.{color.END}')\n",
    "        else:\n",
    "            print(f'{color.GRAY}[OK] The file \\'basica{year}-{month}.zip\\' was already in download zone.{color.END}')"
   ]
  },
  {
   "cell_type": "code",
   "execution_count": 4,
   "id": "49535644",
   "metadata": {
    "ExecuteTime": {
     "end_time": "2022-06-09T02:19:00.193299Z",
     "start_time": "2022-06-09T02:13:55.498542Z"
    },
    "scrolled": false
   },
   "outputs": [
    {
     "name": "stdout",
     "output_type": "stream",
     "text": [
      "\n",
      ">>>> Downloading files (2014)\n",
      "\u001b[90m[OK] The file 'basica2014-01.zip' was already in download zone.\u001b[0m\n",
      "\u001b[90m[OK] The file 'basica2014-02.zip' was already in download zone.\u001b[0m\n",
      "\u001b[90m[OK] The file 'basica2014-03.zip' was already in download zone.\u001b[0m\n",
      "\u001b[90m[OK] The file 'basica2014-04.zip' was already in download zone.\u001b[0m\n",
      "\u001b[90m[OK] The file 'basica2014-05.zip' was already in download zone.\u001b[0m\n",
      "\u001b[90m[OK] The file 'basica2014-06.zip' was already in download zone.\u001b[0m\n",
      "\u001b[90m[OK] The file 'basica2014-07.zip' was already in download zone.\u001b[0m\n",
      "\u001b[90m[OK] The file 'basica2014-08.zip' was already in download zone.\u001b[0m\n",
      "\u001b[90m[OK] The file 'basica2014-09.zip' was already in download zone.\u001b[0m\n",
      "\u001b[90m[OK] The file 'basica2014-10.zip' was already in download zone.\u001b[0m\n",
      "\u001b[90m[OK] The file 'basica2014-11.zip' was already in download zone.\u001b[0m\n",
      "\u001b[90m[OK] The file 'basica2014-12.zip' was already in download zone.\u001b[0m\n",
      "\n",
      ">>>> Downloading files (2015)\n",
      "\u001b[90m[OK] The file 'basica2015-01.zip' was already in download zone.\u001b[0m\n",
      "\u001b[90m[OK] The file 'basica2015-02.zip' was already in download zone.\u001b[0m\n",
      "\u001b[90m[OK] The file 'basica2015-03.zip' was already in download zone.\u001b[0m\n",
      "\u001b[90m[OK] The file 'basica2015-04.zip' was already in download zone.\u001b[0m\n",
      "\u001b[90m[OK] The file 'basica2015-05.zip' was already in download zone.\u001b[0m\n",
      "\u001b[90m[OK] The file 'basica2015-06.zip' was already in download zone.\u001b[0m\n",
      "\u001b[90m[OK] The file 'basica2015-07.zip' was already in download zone.\u001b[0m\n",
      "\u001b[90m[OK] The file 'basica2015-08.zip' was already in download zone.\u001b[0m\n",
      "\u001b[90m[OK] The file 'basica2015-09.zip' was already in download zone.\u001b[0m\n",
      "\u001b[90m[OK] The file 'basica2015-10.zip' was already in download zone.\u001b[0m\n",
      "\u001b[90m[OK] The file 'basica2015-11.zip' was already in download zone.\u001b[0m\n",
      "\u001b[90m[OK] The file 'basica2015-12.zip' was already in download zone.\u001b[0m\n",
      "\n",
      ">>>> Downloading files (2016)\n",
      "\u001b[90m[OK] The file 'basica2016-01.zip' was already in download zone.\u001b[0m\n",
      "\u001b[90m[OK] The file 'basica2016-02.zip' was already in download zone.\u001b[0m\n",
      "\u001b[90m[OK] The file 'basica2016-03.zip' was already in download zone.\u001b[0m\n",
      "\u001b[90m[OK] The file 'basica2016-04.zip' was already in download zone.\u001b[0m\n",
      "\u001b[90m[OK] The file 'basica2016-05.zip' was already in download zone.\u001b[0m\n",
      "\u001b[90m[OK] The file 'basica2016-06.zip' was already in download zone.\u001b[0m\n",
      "\u001b[90m[OK] The file 'basica2016-07.zip' was already in download zone.\u001b[0m\n",
      "\u001b[90m[OK] The file 'basica2016-08.zip' was already in download zone.\u001b[0m\n",
      "\u001b[90m[OK] The file 'basica2016-09.zip' was already in download zone.\u001b[0m\n",
      "\u001b[90m[OK] The file 'basica2016-10.zip' was already in download zone.\u001b[0m\n",
      "\u001b[90m[OK] The file 'basica2016-11.zip' was already in download zone.\u001b[0m\n",
      "\u001b[90m[OK] The file 'basica2016-12.zip' was already in download zone.\u001b[0m\n",
      "\n",
      ">>>> Downloading files (2017)\n",
      "\u001b[90m[OK] The file 'basica2017-01.zip' was already in download zone.\u001b[0m\n",
      "\u001b[90m[OK] The file 'basica2017-02.zip' was already in download zone.\u001b[0m\n",
      "\u001b[90m[OK] The file 'basica2017-03.zip' was already in download zone.\u001b[0m\n",
      "\u001b[90m[OK] The file 'basica2017-04.zip' was already in download zone.\u001b[0m\n",
      "\u001b[90m[OK] The file 'basica2017-05.zip' was already in download zone.\u001b[0m\n",
      "\u001b[90m[OK] The file 'basica2017-06.zip' was already in download zone.\u001b[0m\n",
      "\u001b[90m[OK] The file 'basica2017-07.zip' was already in download zone.\u001b[0m\n",
      "\u001b[90m[OK] The file 'basica2017-08.zip' was already in download zone.\u001b[0m\n",
      "\u001b[90m[OK] The file 'basica2017-09.zip' was already in download zone.\u001b[0m\n",
      "\u001b[90m[OK] The file 'basica2017-10.zip' was already in download zone.\u001b[0m\n",
      "\u001b[90m[OK] The file 'basica2017-11.zip' was already in download zone.\u001b[0m\n",
      "\u001b[90m[OK] The file 'basica2017-12.zip' was already in download zone.\u001b[0m\n",
      "\n",
      ">>>> Downloading files (2018)\n",
      "\u001b[90m[OK] The file 'basica2018-01.zip' was already in download zone.\u001b[0m\n",
      "\u001b[90m[OK] The file 'basica2018-02.zip' was already in download zone.\u001b[0m\n",
      "\u001b[90m[OK] The file 'basica2018-03.zip' was already in download zone.\u001b[0m\n",
      "\u001b[90m[OK] The file 'basica2018-04.zip' was already in download zone.\u001b[0m\n",
      "\u001b[90m[OK] The file 'basica2018-05.zip' was already in download zone.\u001b[0m\n",
      "\u001b[90m[OK] The file 'basica2018-06.zip' was already in download zone.\u001b[0m\n",
      "\u001b[90m[OK] The file 'basica2018-07.zip' was already in download zone.\u001b[0m\n",
      "\u001b[90m[OK] The file 'basica2018-08.zip' was already in download zone.\u001b[0m\n",
      "\u001b[90m[OK] The file 'basica2018-09.zip' was already in download zone.\u001b[0m\n",
      "\u001b[90m[OK] The file 'basica2018-10.zip' was already in download zone.\u001b[0m\n",
      "\u001b[90m[OK] The file 'basica2018-11.zip' was already in download zone.\u001b[0m\n",
      "\u001b[90m[OK] The file 'basica2018-12.zip' was already in download zone.\u001b[0m\n",
      "\n",
      ">>>> Downloading files (2019)\n",
      "\u001b[90m[OK] The file 'basica2019-01.zip' was already in download zone.\u001b[0m\n",
      "\u001b[90m[OK] The file 'basica2019-02.zip' was already in download zone.\u001b[0m\n",
      "\u001b[90m[OK] The file 'basica2019-03.zip' was already in download zone.\u001b[0m\n",
      "\u001b[90m[OK] The file 'basica2019-04.zip' was already in download zone.\u001b[0m\n",
      "\u001b[90m[OK] The file 'basica2019-05.zip' was already in download zone.\u001b[0m\n",
      "\u001b[90m[OK] The file 'basica2019-06.zip' was already in download zone.\u001b[0m\n",
      "\u001b[90m[OK] The file 'basica2019-07.zip' was already in download zone.\u001b[0m\n",
      "\u001b[90m[OK] The file 'basica2019-08.zip' was already in download zone.\u001b[0m\n",
      "\u001b[90m[OK] The file 'basica2019-09.zip' was already in download zone.\u001b[0m\n",
      "\u001b[90m[OK] The file 'basica2019-10.zip' was already in download zone.\u001b[0m\n",
      "\u001b[90m[OK] The file 'basica2019-11.zip' was already in download zone.\u001b[0m\n",
      "\u001b[90m[OK] The file 'basica2019-12.zip' was already in download zone.\u001b[0m\n",
      "\n",
      ">>>> Downloading files (2020)\n",
      "\u001b[90m[OK] The file 'basica2020-01.zip' was already in download zone.\u001b[0m\n",
      "\u001b[90m[OK] The file 'basica2020-02.zip' was already in download zone.\u001b[0m\n",
      "\u001b[90m[OK] The file 'basica2020-03.zip' was already in download zone.\u001b[0m\n",
      "\u001b[90m[OK] The file 'basica2020-04.zip' was already in download zone.\u001b[0m\n",
      "\u001b[90m[OK] The file 'basica2020-05.zip' was already in download zone.\u001b[0m\n",
      "\u001b[90m[OK] The file 'basica2020-06.zip' was already in download zone.\u001b[0m\n",
      "\u001b[90m[OK] The file 'basica2020-07.zip' was already in download zone.\u001b[0m\n",
      "\u001b[90m[OK] The file 'basica2020-08.zip' was already in download zone.\u001b[0m\n",
      "\u001b[90m[OK] The file 'basica2020-09.zip' was already in download zone.\u001b[0m\n",
      "\u001b[90m[OK] The file 'basica2020-10.zip' was already in download zone.\u001b[0m\n",
      "\u001b[90m[OK] The file 'basica2020-11.zip' was already in download zone.\u001b[0m\n",
      "\u001b[90m[OK] The file 'basica2020-12.zip' was already in download zone.\u001b[0m\n",
      "\n",
      ">>>> Downloading files (2021)\n",
      "\u001b[92m[OK] The file 'basica2021-01.zip' was downloaded.\u001b[0m\n",
      "\u001b[92m[OK] The file 'basica2021-02.zip' was downloaded.\u001b[0m\n",
      "\u001b[92m[OK] The file 'basica2021-03.zip' was downloaded.\u001b[0m\n",
      "\u001b[92m[OK] The file 'basica2021-04.zip' was downloaded.\u001b[0m\n",
      "\u001b[92m[OK] The file 'basica2021-05.zip' was downloaded.\u001b[0m\n",
      "\u001b[92m[OK] The file 'basica2021-06.zip' was downloaded.\u001b[0m\n",
      "\u001b[92m[OK] The file 'basica2021-07.zip' was downloaded.\u001b[0m\n",
      "\u001b[92m[OK] The file 'basica2021-08.zip' was downloaded.\u001b[0m\n",
      "\u001b[92m[OK] The file 'basica2021-09.zip' was downloaded.\u001b[0m\n",
      "\u001b[92m[OK] The file 'basica2021-10.zip' was downloaded.\u001b[0m\n",
      "\u001b[92m[OK] The file 'basica2021-11.zip' was downloaded.\u001b[0m\n",
      "\u001b[92m[OK] The file 'basica2021-12.zip' was downloaded.\u001b[0m\n",
      "\n",
      ">>>> Downloading files (2022)\n",
      "\u001b[92m[OK] The file 'basica2022-01.zip' was downloaded.\u001b[0m\n",
      "\u001b[92m[OK] The file 'basica2022-02.zip' was downloaded.\u001b[0m\n",
      "\u001b[92m[OK] The file 'basica2022-03.zip' was downloaded.\u001b[0m\n",
      "\u001b[92m[OK] The file 'basica2022-04.zip' was downloaded.\u001b[0m\n",
      "\u001b[91m---- The file 'basica2022-05.zip' is not available.\u001b[0m\n",
      "\u001b[91m---- The file 'basica2022-06.zip' is not available.\u001b[0m\n",
      "\u001b[91m---- The file 'basica2022-07.zip' is not available.\u001b[0m\n",
      "\u001b[91m---- The file 'basica2022-08.zip' is not available.\u001b[0m\n",
      "\u001b[91m---- The file 'basica2022-09.zip' is not available.\u001b[0m\n",
      "\u001b[91m---- The file 'basica2022-10.zip' is not available.\u001b[0m\n",
      "\u001b[91m---- The file 'basica2022-11.zip' is not available.\u001b[0m\n",
      "\u001b[91m---- The file 'basica2022-12.zip' is not available.\u001b[0m\n"
     ]
    }
   ],
   "source": [
    "for year in range(2014,2023):\n",
    "    download(year)"
   ]
  },
  {
   "cell_type": "code",
   "execution_count": null,
   "id": "885b5a82",
   "metadata": {},
   "outputs": [],
   "source": []
  }
 ],
 "metadata": {
  "kernelspec": {
   "display_name": "Python 3 (ipykernel)",
   "language": "python",
   "name": "python3"
  },
  "language_info": {
   "codemirror_mode": {
    "name": "ipython",
    "version": 3
   },
   "file_extension": ".py",
   "mimetype": "text/x-python",
   "name": "python",
   "nbconvert_exporter": "python",
   "pygments_lexer": "ipython3",
   "version": "3.8.8"
  }
 },
 "nbformat": 4,
 "nbformat_minor": 5
}
